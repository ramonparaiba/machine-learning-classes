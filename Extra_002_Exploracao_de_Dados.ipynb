{
  "nbformat": 4,
  "nbformat_minor": 0,
  "metadata": {
    "colab": {
      "provenance": [],
      "mount_file_id": "1Eb8zu8uYc6h4YLM2OgKiudk3FByn3qwI",
      "authorship_tag": "ABX9TyMygBoXGszA5wMV8r6GoYjU",
      "include_colab_link": true
    },
    "kernelspec": {
      "name": "python3",
      "display_name": "Python 3"
    },
    "language_info": {
      "name": "python"
    }
  },
  "cells": [
    {
      "cell_type": "markdown",
      "metadata": {
        "id": "view-in-github",
        "colab_type": "text"
      },
      "source": [
        "<a href=\"https://colab.research.google.com/github/ramonparaiba/machine-learning-classes/blob/main/Extra_002_Exploracao_de_Dados.ipynb\" target=\"_parent\"><img src=\"https://colab.research.google.com/assets/colab-badge.svg\" alt=\"Open In Colab\"/></a>"
      ]
    },
    {
      "cell_type": "code",
      "execution_count": 1,
      "metadata": {
        "id": "3EtcPpZy3nYk"
      },
      "outputs": [],
      "source": [
        "#import packages\n",
        "import pandas as pd"
      ]
    },
    {
      "cell_type": "code",
      "source": [
        "#criar um dataFrame\n",
        "steam = pd.read_csv('/content/drive/MyDrive/datasets-colab/games/steam.csv')"
      ],
      "metadata": {
        "id": "en3DJBSr4q77"
      },
      "execution_count": 52,
      "outputs": []
    },
    {
      "cell_type": "code",
      "source": [
        "#tamanho do dataFrame\n",
        "steam.shape"
      ],
      "metadata": {
        "colab": {
          "base_uri": "https://localhost:8080/"
        },
        "id": "awUPN4SP5MJ8",
        "outputId": "d1a88d81-9d61-44e7-e7bd-0acc4d1ca1c7"
      },
      "execution_count": 4,
      "outputs": [
        {
          "output_type": "execute_result",
          "data": {
            "text/plain": [
              "(27075, 18)"
            ]
          },
          "metadata": {},
          "execution_count": 4
        }
      ]
    },
    {
      "cell_type": "code",
      "source": [
        "#Informação sobre as colunas ou Séries\n",
        "steam.info()"
      ],
      "metadata": {
        "colab": {
          "base_uri": "https://localhost:8080/"
        },
        "id": "J_A8BuzM5iKL",
        "outputId": "d55e0b8f-0cd8-402f-df0a-9b03359c9163"
      },
      "execution_count": 7,
      "outputs": [
        {
          "output_type": "stream",
          "name": "stdout",
          "text": [
            "<class 'pandas.core.frame.DataFrame'>\n",
            "RangeIndex: 27075 entries, 0 to 27074\n",
            "Data columns (total 18 columns):\n",
            " #   Column            Non-Null Count  Dtype  \n",
            "---  ------            --------------  -----  \n",
            " 0   appid             27075 non-null  int64  \n",
            " 1   name              27075 non-null  object \n",
            " 2   release_date      27075 non-null  object \n",
            " 3   english           27075 non-null  int64  \n",
            " 4   developer         27075 non-null  object \n",
            " 5   publisher         27075 non-null  object \n",
            " 6   platforms         27075 non-null  object \n",
            " 7   required_age      27075 non-null  int64  \n",
            " 8   categories        27075 non-null  object \n",
            " 9   genres            27075 non-null  object \n",
            " 10  steamspy_tags     27075 non-null  object \n",
            " 11  achievements      27075 non-null  int64  \n",
            " 12  positive_ratings  27075 non-null  int64  \n",
            " 13  negative_ratings  27075 non-null  int64  \n",
            " 14  average_playtime  27075 non-null  int64  \n",
            " 15  median_playtime   27075 non-null  int64  \n",
            " 16  owners            27075 non-null  object \n",
            " 17  price             27075 non-null  float64\n",
            "dtypes: float64(1), int64(8), object(9)\n",
            "memory usage: 3.7+ MB\n"
          ]
        }
      ]
    },
    {
      "cell_type": "code",
      "source": [
        "#Listar uma única série (PREÇO)\n",
        "steam['price']"
      ],
      "metadata": {
        "id": "spyaJw-L6tba"
      },
      "execution_count": null,
      "outputs": []
    },
    {
      "cell_type": "code",
      "source": [
        "#Listar só categorias\n",
        "steam['categories'].head(35)"
      ],
      "metadata": {
        "id": "nhVeaf1U68Mv"
      },
      "execution_count": null,
      "outputs": []
    },
    {
      "cell_type": "code",
      "source": [
        "#Listar só owners\n",
        "steam['owners']"
      ],
      "metadata": {
        "id": "sRd99Qnm7WhQ"
      },
      "execution_count": null,
      "outputs": []
    },
    {
      "cell_type": "code",
      "source": [
        "#listar um subset duplo\n",
        "steam[['name', 'genres']]"
      ],
      "metadata": {
        "id": "z8ktMR3286eL"
      },
      "execution_count": null,
      "outputs": []
    },
    {
      "cell_type": "code",
      "source": [
        "steam[['name', 'genres', 'average_playtime']]"
      ],
      "metadata": {
        "colab": {
          "base_uri": "https://localhost:8080/",
          "height": 423
        },
        "id": "uIJYNS3O90LI",
        "outputId": "e79ba8be-7491-4a91-f329-6c181ca0b136"
      },
      "execution_count": 19,
      "outputs": [
        {
          "output_type": "execute_result",
          "data": {
            "text/plain": [
              "                             name                  genres  average_playtime\n",
              "0                  Counter-Strike                  Action             17612\n",
              "1           Team Fortress Classic                  Action               277\n",
              "2                   Day of Defeat                  Action               187\n",
              "3              Deathmatch Classic                  Action               258\n",
              "4       Half-Life: Opposing Force                  Action               624\n",
              "...                           ...                     ...               ...\n",
              "27070             Room of Pandora  Adventure;Casual;Indie                 0\n",
              "27071                   Cyber Gun  Action;Adventure;Indie                 0\n",
              "27072            Super Star Blast     Action;Casual;Indie                 0\n",
              "27073  New Yankee 7: Deer Hunters  Adventure;Casual;Indie                 0\n",
              "27074                   Rune Lord  Adventure;Casual;Indie                 0\n",
              "\n",
              "[27075 rows x 3 columns]"
            ],
            "text/html": [
              "\n",
              "  <div id=\"df-e7d221b2-a8ac-405c-b77b-229e546026fe\">\n",
              "    <div class=\"colab-df-container\">\n",
              "      <div>\n",
              "<style scoped>\n",
              "    .dataframe tbody tr th:only-of-type {\n",
              "        vertical-align: middle;\n",
              "    }\n",
              "\n",
              "    .dataframe tbody tr th {\n",
              "        vertical-align: top;\n",
              "    }\n",
              "\n",
              "    .dataframe thead th {\n",
              "        text-align: right;\n",
              "    }\n",
              "</style>\n",
              "<table border=\"1\" class=\"dataframe\">\n",
              "  <thead>\n",
              "    <tr style=\"text-align: right;\">\n",
              "      <th></th>\n",
              "      <th>name</th>\n",
              "      <th>genres</th>\n",
              "      <th>average_playtime</th>\n",
              "    </tr>\n",
              "  </thead>\n",
              "  <tbody>\n",
              "    <tr>\n",
              "      <th>0</th>\n",
              "      <td>Counter-Strike</td>\n",
              "      <td>Action</td>\n",
              "      <td>17612</td>\n",
              "    </tr>\n",
              "    <tr>\n",
              "      <th>1</th>\n",
              "      <td>Team Fortress Classic</td>\n",
              "      <td>Action</td>\n",
              "      <td>277</td>\n",
              "    </tr>\n",
              "    <tr>\n",
              "      <th>2</th>\n",
              "      <td>Day of Defeat</td>\n",
              "      <td>Action</td>\n",
              "      <td>187</td>\n",
              "    </tr>\n",
              "    <tr>\n",
              "      <th>3</th>\n",
              "      <td>Deathmatch Classic</td>\n",
              "      <td>Action</td>\n",
              "      <td>258</td>\n",
              "    </tr>\n",
              "    <tr>\n",
              "      <th>4</th>\n",
              "      <td>Half-Life: Opposing Force</td>\n",
              "      <td>Action</td>\n",
              "      <td>624</td>\n",
              "    </tr>\n",
              "    <tr>\n",
              "      <th>...</th>\n",
              "      <td>...</td>\n",
              "      <td>...</td>\n",
              "      <td>...</td>\n",
              "    </tr>\n",
              "    <tr>\n",
              "      <th>27070</th>\n",
              "      <td>Room of Pandora</td>\n",
              "      <td>Adventure;Casual;Indie</td>\n",
              "      <td>0</td>\n",
              "    </tr>\n",
              "    <tr>\n",
              "      <th>27071</th>\n",
              "      <td>Cyber Gun</td>\n",
              "      <td>Action;Adventure;Indie</td>\n",
              "      <td>0</td>\n",
              "    </tr>\n",
              "    <tr>\n",
              "      <th>27072</th>\n",
              "      <td>Super Star Blast</td>\n",
              "      <td>Action;Casual;Indie</td>\n",
              "      <td>0</td>\n",
              "    </tr>\n",
              "    <tr>\n",
              "      <th>27073</th>\n",
              "      <td>New Yankee 7: Deer Hunters</td>\n",
              "      <td>Adventure;Casual;Indie</td>\n",
              "      <td>0</td>\n",
              "    </tr>\n",
              "    <tr>\n",
              "      <th>27074</th>\n",
              "      <td>Rune Lord</td>\n",
              "      <td>Adventure;Casual;Indie</td>\n",
              "      <td>0</td>\n",
              "    </tr>\n",
              "  </tbody>\n",
              "</table>\n",
              "<p>27075 rows × 3 columns</p>\n",
              "</div>\n",
              "      <button class=\"colab-df-convert\" onclick=\"convertToInteractive('df-e7d221b2-a8ac-405c-b77b-229e546026fe')\"\n",
              "              title=\"Convert this dataframe to an interactive table.\"\n",
              "              style=\"display:none;\">\n",
              "        \n",
              "  <svg xmlns=\"http://www.w3.org/2000/svg\" height=\"24px\"viewBox=\"0 0 24 24\"\n",
              "       width=\"24px\">\n",
              "    <path d=\"M0 0h24v24H0V0z\" fill=\"none\"/>\n",
              "    <path d=\"M18.56 5.44l.94 2.06.94-2.06 2.06-.94-2.06-.94-.94-2.06-.94 2.06-2.06.94zm-11 1L8.5 8.5l.94-2.06 2.06-.94-2.06-.94L8.5 2.5l-.94 2.06-2.06.94zm10 10l.94 2.06.94-2.06 2.06-.94-2.06-.94-.94-2.06-.94 2.06-2.06.94z\"/><path d=\"M17.41 7.96l-1.37-1.37c-.4-.4-.92-.59-1.43-.59-.52 0-1.04.2-1.43.59L10.3 9.45l-7.72 7.72c-.78.78-.78 2.05 0 2.83L4 21.41c.39.39.9.59 1.41.59.51 0 1.02-.2 1.41-.59l7.78-7.78 2.81-2.81c.8-.78.8-2.07 0-2.86zM5.41 20L4 18.59l7.72-7.72 1.47 1.35L5.41 20z\"/>\n",
              "  </svg>\n",
              "      </button>\n",
              "      \n",
              "  <style>\n",
              "    .colab-df-container {\n",
              "      display:flex;\n",
              "      flex-wrap:wrap;\n",
              "      gap: 12px;\n",
              "    }\n",
              "\n",
              "    .colab-df-convert {\n",
              "      background-color: #E8F0FE;\n",
              "      border: none;\n",
              "      border-radius: 50%;\n",
              "      cursor: pointer;\n",
              "      display: none;\n",
              "      fill: #1967D2;\n",
              "      height: 32px;\n",
              "      padding: 0 0 0 0;\n",
              "      width: 32px;\n",
              "    }\n",
              "\n",
              "    .colab-df-convert:hover {\n",
              "      background-color: #E2EBFA;\n",
              "      box-shadow: 0px 1px 2px rgba(60, 64, 67, 0.3), 0px 1px 3px 1px rgba(60, 64, 67, 0.15);\n",
              "      fill: #174EA6;\n",
              "    }\n",
              "\n",
              "    [theme=dark] .colab-df-convert {\n",
              "      background-color: #3B4455;\n",
              "      fill: #D2E3FC;\n",
              "    }\n",
              "\n",
              "    [theme=dark] .colab-df-convert:hover {\n",
              "      background-color: #434B5C;\n",
              "      box-shadow: 0px 1px 3px 1px rgba(0, 0, 0, 0.15);\n",
              "      filter: drop-shadow(0px 1px 2px rgba(0, 0, 0, 0.3));\n",
              "      fill: #FFFFFF;\n",
              "    }\n",
              "  </style>\n",
              "\n",
              "      <script>\n",
              "        const buttonEl =\n",
              "          document.querySelector('#df-e7d221b2-a8ac-405c-b77b-229e546026fe button.colab-df-convert');\n",
              "        buttonEl.style.display =\n",
              "          google.colab.kernel.accessAllowed ? 'block' : 'none';\n",
              "\n",
              "        async function convertToInteractive(key) {\n",
              "          const element = document.querySelector('#df-e7d221b2-a8ac-405c-b77b-229e546026fe');\n",
              "          const dataTable =\n",
              "            await google.colab.kernel.invokeFunction('convertToInteractive',\n",
              "                                                     [key], {});\n",
              "          if (!dataTable) return;\n",
              "\n",
              "          const docLinkHtml = 'Like what you see? Visit the ' +\n",
              "            '<a target=\"_blank\" href=https://colab.research.google.com/notebooks/data_table.ipynb>data table notebook</a>'\n",
              "            + ' to learn more about interactive tables.';\n",
              "          element.innerHTML = '';\n",
              "          dataTable['output_type'] = 'display_data';\n",
              "          await google.colab.output.renderOutput(dataTable, element);\n",
              "          const docLink = document.createElement('div');\n",
              "          docLink.innerHTML = docLinkHtml;\n",
              "          element.appendChild(docLink);\n",
              "        }\n",
              "      </script>\n",
              "    </div>\n",
              "  </div>\n",
              "  "
            ]
          },
          "metadata": {},
          "execution_count": 19
        }
      ]
    },
    {
      "cell_type": "code",
      "source": [
        "#subet com Categoria, idade necessária e preço\n",
        "categoria = steam[['name', 'categories','owners', 'price']]"
      ],
      "metadata": {
        "id": "GJZ6lBAm-DwE"
      },
      "execution_count": 48,
      "outputs": []
    },
    {
      "cell_type": "code",
      "source": [
        "#Listar apenas os jogos mais baratos que 3 dólares\n",
        "categoria[(categoria['price']<3)]"
      ],
      "metadata": {
        "id": "zO89SYcU_TuM"
      },
      "execution_count": null,
      "outputs": []
    },
    {
      "cell_type": "code",
      "source": [
        "#Listar apenas os jogos mais baratos que 3 dólares\n",
        "categoria[(categoria['price']>10)]"
      ],
      "metadata": {
        "id": "quTct1hgBIBT"
      },
      "execution_count": null,
      "outputs": []
    },
    {
      "cell_type": "code",
      "source": [
        "#qual o preço mais alto?\n",
        "categoria['price'].max()"
      ],
      "metadata": {
        "colab": {
          "base_uri": "https://localhost:8080/"
        },
        "id": "XCyZlOnEBhY6",
        "outputId": "99308102-c362-4112-c212-52804b4c8efa"
      },
      "execution_count": 35,
      "outputs": [
        {
          "output_type": "execute_result",
          "data": {
            "text/plain": [
              "421.99"
            ]
          },
          "metadata": {},
          "execution_count": 35
        }
      ]
    },
    {
      "cell_type": "code",
      "source": [
        "#qual o preço mais baixo?\n",
        "categoria['price'].min()"
      ],
      "metadata": {
        "colab": {
          "base_uri": "https://localhost:8080/"
        },
        "id": "AOhmr3M6B4zl",
        "outputId": "7a6c81e5-c72f-46db-fc04-6709eca55ddc"
      },
      "execution_count": 36,
      "outputs": [
        {
          "output_type": "execute_result",
          "data": {
            "text/plain": [
              "0.0"
            ]
          },
          "metadata": {},
          "execution_count": 36
        }
      ]
    },
    {
      "cell_type": "code",
      "source": [
        "categoria[(categoria['price'] > 100)]"
      ],
      "metadata": {
        "id": "v2V0DMVlCKH8"
      },
      "execution_count": null,
      "outputs": []
    },
    {
      "cell_type": "code",
      "source": [
        "#descobrir categorias\n",
        "categoria['owners'].unique()"
      ],
      "metadata": {
        "colab": {
          "base_uri": "https://localhost:8080/"
        },
        "id": "9-LqawAoD128",
        "outputId": "b81594ae-6a7f-47b9-8ae2-1fa0c02639b2"
      },
      "execution_count": 51,
      "outputs": [
        {
          "output_type": "execute_result",
          "data": {
            "text/plain": [
              "array(['10000000-20000000', '5000000-10000000', '2000000-5000000',\n",
              "       '20000000-50000000', '100000000-200000000', '50000000-100000000',\n",
              "       '20000-50000', '500000-1000000', '100000-200000', '50000-100000',\n",
              "       '1000000-2000000', '200000-500000', '0-20000'], dtype=object)"
            ]
          },
          "metadata": {},
          "execution_count": 51
        }
      ]
    }
  ]
}