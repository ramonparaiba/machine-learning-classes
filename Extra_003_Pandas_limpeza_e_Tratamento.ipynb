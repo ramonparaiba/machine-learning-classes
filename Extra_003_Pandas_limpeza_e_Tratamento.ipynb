{
  "nbformat": 4,
  "nbformat_minor": 0,
  "metadata": {
    "colab": {
      "provenance": [],
      "mount_file_id": "1ABbMG1aZWfPS12lI6bbia8wbT98-xz9Y",
      "authorship_tag": "ABX9TyMKZJivkyprl0+GObIzyqnt",
      "include_colab_link": true
    },
    "kernelspec": {
      "name": "python3",
      "display_name": "Python 3"
    },
    "language_info": {
      "name": "python"
    }
  },
  "cells": [
    {
      "cell_type": "markdown",
      "metadata": {
        "id": "view-in-github",
        "colab_type": "text"
      },
      "source": [
        "<a href=\"https://colab.research.google.com/github/ramonparaiba/machine-learning-classes/blob/main/Extra_003_Pandas_limpeza_e_Tratamento.ipynb\" target=\"_parent\"><img src=\"https://colab.research.google.com/assets/colab-badge.svg\" alt=\"Open In Colab\"/></a>"
      ]
    },
    {
      "cell_type": "code",
      "execution_count": 1,
      "metadata": {
        "id": "YXoWQeoUq9Rc"
      },
      "outputs": [],
      "source": [
        "import pandas as pd"
      ]
    },
    {
      "cell_type": "code",
      "source": [
        "data = pd.read_csv('/content/drive/MyDrive/datasets-colab/w3schools/data.csv')"
      ],
      "metadata": {
        "id": "W1tOFlL9rR-z"
      },
      "execution_count": 2,
      "outputs": []
    },
    {
      "cell_type": "code",
      "source": [
        "data.head()"
      ],
      "metadata": {
        "id": "iEMps9ZfrWAt"
      },
      "execution_count": null,
      "outputs": []
    },
    {
      "cell_type": "code",
      "source": [
        "data.shape"
      ],
      "metadata": {
        "colab": {
          "base_uri": "https://localhost:8080/"
        },
        "id": "3ezR8Dyur53L",
        "outputId": "0aec8bb8-0d52-4dcf-b960-cb76f443f436"
      },
      "execution_count": 5,
      "outputs": [
        {
          "output_type": "execute_result",
          "data": {
            "text/plain": [
              "(169, 4)"
            ]
          },
          "metadata": {},
          "execution_count": 5
        }
      ]
    },
    {
      "cell_type": "code",
      "source": [
        "data.info()"
      ],
      "metadata": {
        "id": "tE0f2TDVr7LN"
      },
      "execution_count": null,
      "outputs": []
    },
    {
      "cell_type": "markdown",
      "source": [
        "#Limpeza de dados\n",
        "- Tratando células NaN - dropna() fillna()\n",
        "- Dados no formato errado\n",
        "- Dados errados\n",
        "- Dados duplicados"
      ],
      "metadata": {
        "id": "lmycwR-jLRI0"
      }
    },
    {
      "cell_type": "code",
      "source": [
        "#Tratando células vazias dropna()\n",
        "#Remover Linhas\n",
        "newData = data.dropna() #dropna() não altera o dataframe original\n",
        "newData.info()"
      ],
      "metadata": {
        "id": "Ge0fik9GsF8u"
      },
      "execution_count": null,
      "outputs": []
    },
    {
      "cell_type": "code",
      "source": [
        "#Substituir valores vazios fillna()\n",
        "dataSubst = pd.DataFrame(data)\n",
        "dataSubst['Calories'].fillna(130, inplace=True) #subsitui os campos null por 130"
      ],
      "metadata": {
        "id": "DXesPcuStBaz"
      },
      "execution_count": 13,
      "outputs": []
    },
    {
      "cell_type": "code",
      "source": [
        "#Substituir usando média\n",
        "dataMean = pd.DataFrame(data)\n",
        "media = dataMean['Calories'].mean()\n",
        "dataMean['Calories'].fillna(media, inplace=True) #substitui os dados null pela média"
      ],
      "metadata": {
        "id": "kv5JgfKVuFOT"
      },
      "execution_count": 16,
      "outputs": []
    },
    {
      "cell_type": "code",
      "source": [
        "#Substituir mediana\n",
        "dataMed = pd.DataFrame(data)\n",
        "data[data['Calories'].isna()]"
      ],
      "metadata": {
        "id": "rzodraaZuiYz"
      },
      "execution_count": null,
      "outputs": []
    },
    {
      "cell_type": "code",
      "source": [
        "mediana = dataMed['Calories'].median()\n",
        "dataMed['Calories'].fillna(mediana, inplace = True)"
      ],
      "metadata": {
        "id": "ueBuNolfvece"
      },
      "execution_count": null,
      "outputs": []
    },
    {
      "cell_type": "code",
      "source": [
        "dfmoda = pd.DataFrame(data)\n",
        "moda = dfmoda['Calories'].mode()[0]\n",
        "dfmoda['Calories'].fillna(moda, inplace = True)"
      ],
      "metadata": {
        "id": "NN6gqiOhwWTJ"
      },
      "execution_count": 36,
      "outputs": []
    },
    {
      "cell_type": "markdown",
      "source": [
        "- Converter para o tipo de dado correto"
      ],
      "metadata": {
        "id": "mNzinghgLugh"
      }
    },
    {
      "cell_type": "code",
      "source": [
        "#Novodataframe com a série 'Date'\n",
        "df = pd.read_csv('/content/drive/MyDrive/datasets-colab/w3schools/data2.csv', delimiter = ' ')"
      ],
      "metadata": {
        "id": "XCsFspSNT5fj"
      },
      "execution_count": 8,
      "outputs": []
    },
    {
      "cell_type": "code",
      "source": [
        "df"
      ],
      "metadata": {
        "id": "_6hZCAS6UD-D"
      },
      "execution_count": null,
      "outputs": []
    },
    {
      "cell_type": "code",
      "source": [
        "#substituir os NaN na série 'Calories' pela média\n",
        "media = df['Calories'].mean()\n",
        "df['Calories'].fillna(media, inplace=True)"
      ],
      "metadata": {
        "id": "nN4TcoJNUq5M"
      },
      "execution_count": 12,
      "outputs": []
    },
    {
      "cell_type": "code",
      "source": [
        "#Tentar converter todas as células da série Date em datas\n",
        "#temos problemas nas linhas 22 e 26\n",
        "\n",
        "df['Date'] = pd.to_datetime(df['Date'])"
      ],
      "metadata": {
        "id": "Tt4AL4g4VJW2"
      },
      "execution_count": 15,
      "outputs": []
    },
    {
      "cell_type": "code",
      "source": [
        "print(df.to_string())\n",
        "#A linha 26 foi corrigida, entretanto a linha 22 passou a ter um valor NaT (not a time)"
      ],
      "metadata": {
        "id": "aUjRyHENWN4t"
      },
      "execution_count": null,
      "outputs": []
    },
    {
      "cell_type": "code",
      "source": [
        "#como estimar uma data é muito crítico, uma solução recomendável pode ser a exclusão da linha\n",
        "df.dropna(subset=['Date'], inplace = True)"
      ],
      "metadata": {
        "id": "aeNV5ZQdW5nz"
      },
      "execution_count": 19,
      "outputs": []
    },
    {
      "cell_type": "code",
      "source": [
        "df"
      ],
      "metadata": {
        "id": "JxBJrj32Xa3J"
      },
      "execution_count": null,
      "outputs": []
    },
    {
      "cell_type": "markdown",
      "source": [
        "* Dados errados.\n",
        "  - Um dado errado, não é necessáriamente um problema de tipo de dado.\n",
        "  - Pode ser um erro flagrante de digitação. Por exemplo: alguém digitou o peso de uma pessoa como sendo 600 kg. \n",
        "  - No dataset em questão, a duração, que em geral está oscilando entre 30 e 60, tem na linha 7, o valor 450. Então é um forte candidato a ser tratado.\n",
        "  - Nem sempre valores discrepantes são errados. Ai depende da experiência do pesquisador, e da sua familiaridade com os tipos de inputs."
      ],
      "metadata": {
        "id": "BhDZBzp2XjHF"
      }
    },
    {
      "cell_type": "code",
      "source": [
        "#Substituindo o valor por outro que se saiba mais coerente\n",
        "df.loc[7, 'Duration'] = 45"
      ],
      "metadata": {
        "id": "iNsmoIO6YZbz"
      },
      "execution_count": 22,
      "outputs": []
    },
    {
      "cell_type": "code",
      "source": [
        "df"
      ],
      "metadata": {
        "id": "ah7qBEcqYtoI"
      },
      "execution_count": null,
      "outputs": []
    },
    {
      "cell_type": "markdown",
      "source": [
        "- Para pequenos datasets, é possível substituir o valor errado por 1, mas não para grandes conjuntos de dados.\n",
        "- Para datasets maiores, é possível escrever uma regra que limite valores máximos. Assim, se algum valor estiver fora desse range, pode ser substituído por um valor estipulado."
      ],
      "metadata": {
        "id": "OaF0zSOEY_kb"
      }
    },
    {
      "cell_type": "code",
      "source": [
        "for i in df.index:\n",
        "  if df.loc[i, 'Duration'] > 100:\n",
        "    df.loc[i,'Duration'] == 100"
      ],
      "metadata": {
        "id": "sx6GGCK-Y-22"
      },
      "execution_count": 25,
      "outputs": []
    },
    {
      "cell_type": "code",
      "source": [
        "#removendo as linhas\n",
        "for i in df.index:\n",
        "  if df.loc[i, 'Duration'] > 100:\n",
        "    df.drop(i, inplace = True)"
      ],
      "metadata": {
        "id": "KQ4us4hxZ7_r"
      },
      "execution_count": 27,
      "outputs": []
    },
    {
      "cell_type": "markdown",
      "source": [
        "Remoção de duplicatas"
      ],
      "metadata": {
        "id": "snNvmv1jaS7H"
      }
    },
    {
      "cell_type": "code",
      "source": [
        "#no dataset as linhas 11 e 12 são idênticas (fortes candidatas a serem duplicatas)\n",
        "#para descobrir duplicatas usar o método duplicated()\n",
        "df.duplicated()"
      ],
      "metadata": {
        "id": "zbo-It5laR2B"
      },
      "execution_count": null,
      "outputs": []
    },
    {
      "cell_type": "code",
      "source": [
        "#para deletar as duplicatas drop_duplicates()\n",
        "\n",
        "df.drop_duplicates(inplace = True)"
      ],
      "metadata": {
        "id": "IhL0LlGda1Jk"
      },
      "execution_count": 33,
      "outputs": []
    },
    {
      "cell_type": "code",
      "source": [
        "df"
      ],
      "metadata": {
        "id": "20CBGWLTbBfI"
      },
      "execution_count": null,
      "outputs": []
    }
  ]
}