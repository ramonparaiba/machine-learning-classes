{
  "nbformat": 4,
  "nbformat_minor": 0,
  "metadata": {
    "colab": {
      "provenance": [],
      "authorship_tag": "ABX9TyPtRygigKfP0r8VOf/UW8na",
      "include_colab_link": true
    },
    "kernelspec": {
      "name": "python3",
      "display_name": "Python 3"
    },
    "language_info": {
      "name": "python"
    }
  },
  "cells": [
    {
      "cell_type": "markdown",
      "metadata": {
        "id": "view-in-github",
        "colab_type": "text"
      },
      "source": [
        "<a href=\"https://colab.research.google.com/github/ramonparaiba/machine-learning-classes/blob/main/Logica_Fuzzy_001_gorjeta.ipynb\" target=\"_parent\"><img src=\"https://colab.research.google.com/assets/colab-badge.svg\" alt=\"Open In Colab\"/></a>"
      ]
    },
    {
      "cell_type": "markdown",
      "source": [
        "# Fuzzy - exemplo das gorgetas"
      ],
      "metadata": {
        "id": "8NzPq_mMxYkR"
      }
    },
    {
      "cell_type": "markdown",
      "source": [
        "**Antecedentes (entradas)**\n",
        "\n",
        "Serviço: que nota você daria para o serviço, em uma escala de 0 a 10?\n",
        "- ruim, aceitável, ótimo\n",
        "\n",
        "Qualidade da comida: quão boa estava a comida, em uma escala de 0 a 10?\n",
        "- ruim, boa, saborosa\n",
        "\n",
        "**Consequentes (saídas)**\n",
        "\n",
        "Gorjeta: quanta gorjeta você daria, entre 0% e 20%?\n",
        "- baixa, média, alta\n",
        "\n",
        "Regras\n",
        "- Se a qualidade da comida for *ruim* ou o serviço for *ruim* então a gorjeta será *baixa*\n",
        "- Se o serviço for *médio* então a gorjeta será *média*\n",
        "- Se o serviço for *bom* e a qualidade da comida for *saborosa* então a gorjeta será *alta*"
      ],
      "metadata": {
        "id": "ywqUUC0Rxahk"
      }
    },
    {
      "cell_type": "markdown",
      "source": [
        "## Instalação e importação das bibliotecas\n",
        "\n",
        "- !pip install scikit-fuzzy\n",
        "\n",
        "- import numpy as np\n",
        "- import skfuzzy as fuzz\n",
        "- from skfuzzy import control as ctrl"
      ],
      "metadata": {
        "id": "-vIEtpbxxlt9"
      }
    },
    {
      "cell_type": "code",
      "execution_count": null,
      "metadata": {
        "id": "sCKIUrDxwPKJ"
      },
      "outputs": [],
      "source": [
        "#instal scikit-fuzzy\n",
        "!pip install scikit-fuzzy"
      ]
    },
    {
      "cell_type": "code",
      "source": [
        "import numpy as np\n",
        "import skfuzzy as fuzz\n",
        "from skfuzzy import control as ctrl"
      ],
      "metadata": {
        "id": "s_olbn6E_JK1"
      },
      "execution_count": 2,
      "outputs": []
    },
    {
      "cell_type": "markdown",
      "source": [
        "## Antecedentes e Consequentes"
      ],
      "metadata": {
        "id": "mwQQg1cPx3rm"
      }
    },
    {
      "cell_type": "markdown",
      "source": [
        "\n",
        "\n",
        "* Antecedentes\n",
        "  * qualidade = ctrl.Antecedent(np.arange(0, 11, 1), 'qualidade')\n",
        "    * qualidade\n",
        "    * qualidade.universe\n",
        "  * servico = ctrl.Antecedent(np.arange(0, 11, 1), 'servico')\n",
        "    * servico\n",
        "    * servico.universe\n",
        "* Consequentes\n",
        "  * gorjeta = ctrl.Consequent(np.arange(0, 21, 1), 'gorjeta')\n",
        "    * gorjeta\n",
        "    * gorjeta.universe"
      ],
      "metadata": {
        "id": "5gNfmtVUyEX1"
      }
    },
    {
      "cell_type": "code",
      "source": [
        "#Antecedentes\n",
        "qualidade = ctrl.Antecedent(np.arange(0, 11, 1), 'qualidade')\n",
        "servico = ctrl.Antecedent(np.arange(0, 10, 1), 'servico')"
      ],
      "metadata": {
        "id": "RbLHv3Mtzv5M"
      },
      "execution_count": 8,
      "outputs": []
    },
    {
      "cell_type": "code",
      "source": [
        "#Consequente\n",
        "gorjeta = ctrl.Consequent(np.arange(0, 21, 1), 'gorjeta')"
      ],
      "metadata": {
        "id": "BqeBritp_15l"
      },
      "execution_count": null,
      "outputs": []
    },
    {
      "cell_type": "markdown",
      "source": [
        "#Funções de membership\n"
      ],
      "metadata": {
        "id": "d7QbzDfb8KeQ"
      }
    },
    {
      "cell_type": "markdown",
      "source": [
        "* qualidade.automf(number=3, names=['ruim', 'boa', 'saborosa'])\n",
        "* servico.automf(number=3, names=['ruim', 'aceitável', 'ótimo'])\n",
        "\n",
        "* visualização\n",
        "  * qualidade.view()\n",
        "  * qualidade['saborosa'].view()\n",
        "  * servico.view()\n",
        "* gorjeta['baixa'] = fuzz.trimf(gorjeta.universe, [0, 0, 8])\n",
        "* gorjeta['media'] = fuzz.trimf(gorjeta.universe, [2, 10, 18])\n",
        "* gorjeta['alta'] = fuzz.trimf(gorjeta.universe, [12, 20, 20])\n",
        "\n",
        "* gorjeta.view()\n",
        "\n",
        "## Regras\n",
        "* regra1 = ctrl.Rule(qualidade['ruim'] | servico['ruim'], gorjeta['baixa'])\n",
        "* regra2 = ctrl.Rule(servico['aceitável'], gorjeta['media'])\n",
        "* regra3 = ctrl.Rule(servico['ótimo'] | qualidade['saborosa'], gorjeta['alta'])"
      ],
      "metadata": {
        "id": "Y23P-TlN8a2h"
      }
    },
    {
      "cell_type": "code",
      "source": [],
      "metadata": {
        "id": "2bc_gp4o8-vb"
      },
      "execution_count": null,
      "outputs": []
    },
    {
      "cell_type": "markdown",
      "source": [
        "# Sistema de Controle\n",
        "\n"
      ],
      "metadata": {
        "id": "IHlxrHAR9ABO"
      }
    },
    {
      "cell_type": "markdown",
      "source": [
        "\n",
        "\n",
        "* sistema_controle = ctrl.ControlSystem([regra1, regra2, regra3])\n",
        "* sistema = ctrl.ControlSystemSimulation(sistema_controle)\n",
        " - --------------------------\n",
        "* sistema.input['qualidade'] = 10\n",
        "* sistema.input['servico'] = 10\n",
        "* sistema.compute()\n",
        "  - ----------------\n",
        "* print(sistema.output['gorjeta'])\n",
        "* gorjeta.view(sim = sistema)\n",
        "\n",
        "\n"
      ],
      "metadata": {
        "id": "jCe5IWwz-PKQ"
      }
    }
  ]
}