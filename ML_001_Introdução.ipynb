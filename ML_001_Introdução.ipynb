{
  "nbformat": 4,
  "nbformat_minor": 0,
  "metadata": {
    "colab": {
      "provenance": [],
      "collapsed_sections": [
        "v-F6rAxPfbGY"
      ],
      "authorship_tag": "ABX9TyM+tKLBZwg12Pt5EnL17D+4",
      "include_colab_link": true
    },
    "kernelspec": {
      "name": "python3",
      "display_name": "Python 3"
    },
    "language_info": {
      "name": "python"
    }
  },
  "cells": [
    {
      "cell_type": "markdown",
      "metadata": {
        "id": "view-in-github",
        "colab_type": "text"
      },
      "source": [
        "<a href=\"https://colab.research.google.com/github/ramonparaiba/machine-learning-classes/blob/main/ML_001_Introdu%C3%A7%C3%A3o.ipynb\" target=\"_parent\"><img src=\"https://colab.research.google.com/assets/colab-badge.svg\" alt=\"Open In Colab\"/></a>"
      ]
    },
    {
      "cell_type": "markdown",
      "source": [
        "#Introdução"
      ],
      "metadata": {
        "id": "-gHkoMJdEDIm"
      }
    },
    {
      "cell_type": "markdown",
      "source": [
        "**Machine Learning** *é uma técnica de Inteligência Artificial que permite que os computadores aprendam a partir de dados sem serem explicitamente programados. Em vez disso, os algoritmos de Machine Learning usam os dados para construir um modelo matemático que pode ser usado para fazer previsões ou tomar decisões. Essa técnica é amplamente utilizada em áreas como reconhecimento de imagem, processamento de linguagem natural, análise de dados e automação de processos. O objetivo final do Machine Learning é fornecer insights úteis e precisos a partir de grandes quantidades de dados, tornando-o uma ferramenta poderosa para empresas e organizações em todo o mundo. (powered by: Chat GPT)*\n",
        "\n",
        "Tipos de dados\n",
        "- Numéricos\n",
        "  - Números que podem ser divididos em duas categorias:\n",
        "    - Discretos - Números inteiros (qtidade de alunos na sala, número de bicicletas em circulação)\n",
        "    - Contínuoes - Números reais (preço de um ítem, medidas de um objeto)\n",
        "- Categóricos\n",
        "  - Valores que NÃO podem ser medidos em relação a outros (cores, booleanos, sexo, nacionalidade)\n",
        "- Ordinais\n",
        "  - Valores que PODEM ser medidos em relação a outros (notas escolares, posição no ENEM)\n",
        "\n",
        "\n"
      ],
      "metadata": {
        "id": "_ZL6tFtyHE2_"
      }
    },
    {
      "cell_type": "markdown",
      "source": [
        "# Estatística descritiva"
      ],
      "metadata": {
        "id": "fbc3vBTbIlWZ"
      }
    },
    {
      "cell_type": "markdown",
      "source": [
        "Média - Moda - Mediana\n",
        "* Média - O valor médio\n",
        "* Mediana - O valor do ponto médio\n",
        "* Moda - O valor mais comum"
      ],
      "metadata": {
        "id": "CZkxoroCIZe5"
      }
    },
    {
      "cell_type": "code",
      "source": [
        "import numpy as np"
      ],
      "metadata": {
        "id": "bTsfO7tzd1an"
      },
      "execution_count": 5,
      "outputs": []
    },
    {
      "cell_type": "code",
      "execution_count": 44,
      "metadata": {
        "id": "F7oCugReD-D9"
      },
      "outputs": [],
      "source": [
        "#Velocidade de carros\n",
        "velocidade = [99,86,87,88,111,86,103,87,94,78,77,85,86]"
      ]
    },
    {
      "cell_type": "code",
      "source": [
        "#modo tradicional\n",
        "soma = 0\n",
        "for num in velocidade:\n",
        "  soma += num\n",
        "print(soma/len(velocidade))"
      ],
      "metadata": {
        "colab": {
          "base_uri": "https://localhost:8080/"
        },
        "id": "2-I6jGQW0524",
        "outputId": "37937bda-42c4-4c30-fdf1-fd719977234a"
      },
      "execution_count": 42,
      "outputs": [
        {
          "output_type": "stream",
          "name": "stdout",
          "text": [
            "89.76923076923077\n"
          ]
        }
      ]
    },
    {
      "cell_type": "code",
      "source": [
        "#Cálculo da média\n",
        "np.mean(velocidade)"
      ],
      "metadata": {
        "colab": {
          "base_uri": "https://localhost:8080/"
        },
        "id": "kbBR2kw2eEjT",
        "outputId": "b5ce5e1e-534c-4a41-f6f0-7c2af4e057cf"
      },
      "execution_count": 43,
      "outputs": [
        {
          "output_type": "execute_result",
          "data": {
            "text/plain": [
              "89.76923076923077"
            ]
          },
          "metadata": {},
          "execution_count": 43
        }
      ]
    },
    {
      "cell_type": "code",
      "source": [
        "#valor mediano\n",
        "np.median(velocidade)"
      ],
      "metadata": {
        "colab": {
          "base_uri": "https://localhost:8080/"
        },
        "id": "AWXhGyUjeXUJ",
        "outputId": "5307e936-2011-4318-a230-229060e3796f"
      },
      "execution_count": 45,
      "outputs": [
        {
          "output_type": "execute_result",
          "data": {
            "text/plain": [
              "87.0"
            ]
          },
          "metadata": {},
          "execution_count": 45
        }
      ]
    },
    {
      "cell_type": "markdown",
      "source": [
        "Scipy - é uma biblioteca de computação científica que usa o NumPy por baixo\n",
        "* Ele fornece mais funções de utilidade para otimização, estatísticas e processamento de sinal."
      ],
      "metadata": {
        "id": "-23evePWe4rO"
      }
    },
    {
      "cell_type": "code",
      "source": [
        "from scipy import stats\n",
        "\n",
        "#valor mais frequente (MODA)\n",
        "\n",
        "stats.mode(velocidade)"
      ],
      "metadata": {
        "colab": {
          "base_uri": "https://localhost:8080/"
        },
        "id": "UAaCuSQsejPF",
        "outputId": "20089c05-7dd1-4330-e118-5dcb1ad283f8"
      },
      "execution_count": 9,
      "outputs": [
        {
          "output_type": "stream",
          "name": "stderr",
          "text": [
            "<ipython-input-9-b7392daf88b5>:5: FutureWarning: Unlike other reduction functions (e.g. `skew`, `kurtosis`), the default behavior of `mode` typically preserves the axis it acts along. In SciPy 1.11.0, this behavior will change: the default value of `keepdims` will become False, the `axis` over which the statistic is taken will be eliminated, and the value None will no longer be accepted. Set `keepdims` to True or False to avoid this warning.\n",
            "  stats.mode(velocidade)\n"
          ]
        },
        {
          "output_type": "execute_result",
          "data": {
            "text/plain": [
              "ModeResult(mode=array([86]), count=array([3]))"
            ]
          },
          "metadata": {},
          "execution_count": 9
        }
      ]
    },
    {
      "cell_type": "code",
      "source": [
        "idadeAlunos = [25, 19, 20, 23, 18, 19, 22, 26, 21.4, 21, 23, 18, 19, 22, 28, 40]"
      ],
      "metadata": {
        "id": "vlnvW9VS4qo1"
      },
      "execution_count": 62,
      "outputs": []
    },
    {
      "cell_type": "code",
      "source": [
        "print(np.mean(idadeAlunos))\n",
        "\n",
        "#21.466\n",
        "#22.625\n",
        "#21.4375"
      ],
      "metadata": {
        "colab": {
          "base_uri": "https://localhost:8080/"
        },
        "id": "ypPDb9vF426n",
        "outputId": "bc61ee4f-b5f4-4417-c2cb-c84df3c60341"
      },
      "execution_count": 75,
      "outputs": [
        {
          "output_type": "stream",
          "name": "stdout",
          "text": [
            "22.775\n"
          ]
        }
      ]
    },
    {
      "cell_type": "code",
      "source": [
        "#Procurando outliers\n",
        "for num in idadeAlunos:\n",
        "  if(num > 30):\n",
        "    print(num)"
      ],
      "metadata": {
        "id": "MBNiDNc38XJU"
      },
      "execution_count": null,
      "outputs": []
    },
    {
      "cell_type": "markdown",
      "source": [
        "#Desvio Padrão\n",
        "é uma medida de dispersão do conjunto, ou seja, uma medida que indica quão uniformes são os dados do conjunto. O desvio-padrão demonstra a distância dos valores em relação à média do conjunto, quanto mais próximo de 0 for o desvio-padrão, menos dispersos são os dados daquele conjunto"
      ],
      "metadata": {
        "id": "v-F6rAxPfbGY"
      }
    },
    {
      "cell_type": "code",
      "source": [
        "#Media = 22.775\n",
        "np.std(idadeAlunos)"
      ],
      "metadata": {
        "colab": {
          "base_uri": "https://localhost:8080/"
        },
        "id": "h_KJZTz2fj6Y",
        "outputId": "50a27e6c-ee59-4049-ba93-e8b7d0e7353d"
      },
      "execution_count": 77,
      "outputs": [
        {
          "output_type": "execute_result",
          "data": {
            "text/plain": [
              "5.2544623892459255"
            ]
          },
          "metadata": {},
          "execution_count": 77
        }
      ]
    },
    {
      "cell_type": "markdown",
      "source": [
        "variância - é uma medida de dispersão que mostra o quão distante cada valor desse conjunto está do valor central (médio)."
      ],
      "metadata": {
        "id": "R50J5VzionI7"
      }
    },
    {
      "cell_type": "code",
      "source": [
        "np.var(idadeAlunos)"
      ],
      "metadata": {
        "id": "DnLRvow9q5B-"
      },
      "execution_count": null,
      "outputs": []
    },
    {
      "cell_type": "markdown",
      "source": [
        "Percentis\n",
        "\n",
        "* Os percentis são usados ​​em estatísticas para fornecer um número que descreve o valor ao qual uma determinada porcentagem dos valores é inferior."
      ],
      "metadata": {
        "id": "W12Suk8drLhI"
      }
    },
    {
      "cell_type": "code",
      "source": [
        "idades = [5,31,43,48,50,41,7,11,15,39,80,82,32,2,8,6,25,36,27,61,31]"
      ],
      "metadata": {
        "id": "yTJjlEEqrMp0"
      },
      "execution_count": 67,
      "outputs": []
    },
    {
      "cell_type": "code",
      "source": [
        "np.percentile(idades, 75) #75% das pessoas têm 43 anos ou menos"
      ],
      "metadata": {
        "colab": {
          "base_uri": "https://localhost:8080/"
        },
        "id": "lxvP9FnVr_-3",
        "outputId": "cc62f814-9f92-4604-d94f-af699dc75c6f"
      },
      "execution_count": 68,
      "outputs": [
        {
          "output_type": "execute_result",
          "data": {
            "text/plain": [
              "43.0"
            ]
          },
          "metadata": {},
          "execution_count": 68
        }
      ]
    },
    {
      "cell_type": "code",
      "source": [
        "#Qual é a idade em que 60% das pessoas são mais jovens?\n"
      ],
      "metadata": {
        "id": "J9nb8Q5ntNWj"
      },
      "execution_count": 69,
      "outputs": []
    },
    {
      "cell_type": "markdown",
      "source": [
        "Distribuição de dados"
      ],
      "metadata": {
        "id": "RBAW2xvFtkJZ"
      }
    },
    {
      "cell_type": "code",
      "source": [
        "import matplotlib.pyplot as plt"
      ],
      "metadata": {
        "id": "KCBX78vmufF_"
      },
      "execution_count": 70,
      "outputs": []
    },
    {
      "cell_type": "code",
      "source": [
        "data = np.random.uniform(50, 120, 250)"
      ],
      "metadata": {
        "id": "VyEDtW6dtcQQ"
      },
      "execution_count": 92,
      "outputs": []
    },
    {
      "cell_type": "code",
      "source": [
        "#Histograma\n",
        "plt.hist(data, 5)\n",
        "plt.show()"
      ],
      "metadata": {
        "colab": {
          "base_uri": "https://localhost:8080/",
          "height": 265
        },
        "id": "pr-BfbZ0uvbY",
        "outputId": "242e7034-f405-4b92-c301-611eb23793c8"
      },
      "execution_count": 93,
      "outputs": [
        {
          "output_type": "display_data",
          "data": {
            "text/plain": [
              "<Figure size 432x288 with 1 Axes>"
            ],
            "image/png": "[encoded data removed]"
          },
          "metadata": {
            "needs_background": "light"
          }
        }
      ]
    },
    {
      "cell_type": "code",
      "source": [
        "np.mean(data)"
      ],
      "metadata": {
        "colab": {
          "base_uri": "https://localhost:8080/"
        },
        "id": "KPvkzSXSv4B_",
        "outputId": "d0d5c27e-abc6-4098-b09c-cc73286e3a79"
      },
      "execution_count": 81,
      "outputs": [
        {
          "output_type": "execute_result",
          "data": {
            "text/plain": [
              "2.399360708125617"
            ]
          },
          "metadata": {},
          "execution_count": 81
        }
      ]
    },
    {
      "cell_type": "code",
      "source": [
        "bdata = np.random.uniform(0.0, 5.0, 100000)\n",
        "\n",
        "plt.hist(bdata, 100)\n",
        "plt.show()"
      ],
      "metadata": {
        "colab": {
          "base_uri": "https://localhost:8080/",
          "height": 265
        },
        "id": "I6WpRLCKvqYP",
        "outputId": "43770b89-29b2-4591-a7c0-eea01c33b53f"
      },
      "execution_count": 73,
      "outputs": [
        {
          "output_type": "display_data",
          "data": {
            "text/plain": [
              "<Figure size 432x288 with 1 Axes>"
            ],
            "image/png": "[encoded data removed]"
          },
          "metadata": {
            "needs_background": "light"
          }
        }
      ]
    },
    {
      "cell_type": "markdown",
      "source": [
        "#Distribuição Normal"
      ],
      "metadata": {
        "id": "NYB-hVbpcBzP"
      }
    },
    {
      "cell_type": "markdown",
      "source": [
        "A distribuição normal, também conhecida como distribuição de Gauss ou distribuição gaussiana, é uma das distribuições de probabilidade mais importantes na estatística e na matemática. Ela é caracterizada por uma curva em forma de sino que é simétrica em torno da sua média e que descreve a probabilidade de um evento aleatório ocorrer.\n",
        "\n",
        "A distribuição normal tem duas principais parâmetros: a média (μ) e o desvio padrão (σ). A média representa o ponto central da distribuição e o desvio padrão representa a variabilidade dos dados em relação à média. A curva normal tem um pico na média e é mais achatada quanto maior for o desvio padrão.\n",
        "\n",
        "A distribuição normal é amplamente utilizada em estatística e nas ciências em geral, pois muitas variáveis aleatórias são naturalmente distribuídas de forma normal. Além disso, a distribuição normal é importante porque muitas técnicas estatísticas pressupõem que os dados seguem uma distribuição normal."
      ],
      "metadata": {
        "id": "G29X1edVd1RZ"
      }
    },
    {
      "cell_type": "code",
      "source": [
        "#distribuição normal típica\n",
        "import numpy as np\n",
        "import matplotlib.pyplot as plt\n",
        "\n",
        "datanorm = numpy.random.normal(5.0, 1.0, 100000) #média 5.0, desvio padrão 1.0, 100k ocorrências\n",
        "plt.hist(datanorm, 100)\n",
        "plt.show()"
      ],
      "metadata": {
        "colab": {
          "base_uri": "https://localhost:8080/",
          "height": 265
        },
        "id": "0fBcRVtPd3rI",
        "outputId": "696ca419-1c0b-4aed-8525-7c5bdb1f3b85"
      },
      "execution_count": 94,
      "outputs": [
        {
          "output_type": "display_data",
          "data": {
            "text/plain": [
              "<Figure size 432x288 with 1 Axes>"
            ],
            "image/png": "[encoded data removed]"
          },
          "metadata": {
            "needs_background": "light"
          }
        }
      ]
    }
  ]
}