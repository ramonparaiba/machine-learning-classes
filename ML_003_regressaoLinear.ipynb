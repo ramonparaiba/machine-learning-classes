{
  "nbformat": 4,
  "nbformat_minor": 0,
  "metadata": {
    "colab": {
      "provenance": [],
      "authorship_tag": "ABX9TyP465IzfZT5QC7xnyWjpcOp",
      "include_colab_link": true
    },
    "kernelspec": {
      "name": "python3",
      "display_name": "Python 3"
    },
    "language_info": {
      "name": "python"
    }
  },
  "cells": [
    {
      "cell_type": "markdown",
      "metadata": {
        "id": "view-in-github",
        "colab_type": "text"
      },
      "source": [
        "<a href=\"https://colab.research.google.com/github/ramonparaiba/machine-learning-classes/blob/main/ML_003_regressaoLinear.ipynb\" target=\"_parent\"><img src=\"https://colab.research.google.com/assets/colab-badge.svg\" alt=\"Open In Colab\"/></a>"
      ]
    },
    {
      "cell_type": "code",
      "source": [
        "import numpy as np\n",
        "import matplotlib.pyplot as plt\n",
        "from scipy import stats #para traçar a linha da regressão"
      ],
      "metadata": {
        "id": "R1gHVOW6jKUW"
      },
      "execution_count": 3,
      "outputs": []
    },
    {
      "cell_type": "markdown",
      "source": [
        "#Regressão Linear\n",
        "\n",
        "*Regressão linear é uma técnica estatística que busca modelar a relação entre uma variável dependente e uma ou mais variáveis independentes, através de uma equação linear. O objetivo é encontrar a equação que melhor descreve a relação entre as variáveis, permitindo a previsão de valores da variável dependente com base nas variáveis independentes. A regressão linear é amplamente utilizada em muitas áreas, incluindo finanças, economia, ciências sociais e engenharia, entre outras.*"
      ],
      "metadata": {
        "id": "-hrx5A1Vh9Zc"
      }
    },
    {
      "cell_type": "code",
      "execution_count": 8,
      "metadata": {
        "id": "FwYiB3uOh4qP"
      },
      "outputs": [],
      "source": [
        "#A partir do registro de idade e velocidade de carros que passaram em um pedágio.\n",
        "ageCar = [5,7,8,7,2,17,2,9,4,11,12,9,6]\n",
        "speedCar = [99,86,87,88,111,86,103,87,94,78,77,85,86]"
      ]
    },
    {
      "cell_type": "code",
      "source": [
        "#Criando o gráfico de dispersão\n",
        "plt.scatter(ageCar, speedCar)\n",
        "plt.show()"
      ],
      "metadata": {
        "colab": {
          "base_uri": "https://localhost:8080/",
          "height": 265
        },
        "id": "pe6q1eYpjVxk",
        "outputId": "40428e0e-6e15-4916-c86a-96517d76e8e4"
      },
      "execution_count": 4,
      "outputs": [
        {
          "output_type": "display_data",
          "data": {
            "text/plain": [
              "<Figure size 432x288 with 1 Axes>"
            ],
            "image/png": "[encoded data removed]"
          },
          "metadata": {
            "needs_background": "light"
          }
        }
      ]
    },
    {
      "cell_type": "code",
      "source": [
        "#A função stats.liregress(x,y), retorna: coeficiente angular (slope); coeficiente linear(intercept);\n",
        "#r(o coeficiente de pearson -1 --0-- 1); p (p-valor);stderr (erro padrão) \n",
        "slope, intercept, r, p, stderr =stats.linregress(ageCar, speedCar)\n",
        "r"
      ],
      "metadata": {
        "colab": {
          "base_uri": "https://localhost:8080/"
        },
        "id": "JuzapeJ6joPf",
        "outputId": "d4c9a932-811a-4bf1-fdc8-d9224dd9fa8c"
      },
      "execution_count": 10,
      "outputs": [
        {
          "output_type": "execute_result",
          "data": {
            "text/plain": [
              "-0.758591524376155"
            ]
          },
          "metadata": {},
          "execution_count": 10
        }
      ]
    },
    {
      "cell_type": "code",
      "source": [
        "#A função que cria a equação linear y = ax + b\n",
        "def funcRegressao(x):\n",
        "  return slope*x + intercept"
      ],
      "metadata": {
        "id": "VphRBzPYpu2O"
      },
      "execution_count": 6,
      "outputs": []
    },
    {
      "cell_type": "code",
      "source": [
        "meuModelo = list(map(funcRegressao, ageCar))"
      ],
      "metadata": {
        "id": "koZAerBmrQMr"
      },
      "execution_count": 11,
      "outputs": []
    },
    {
      "cell_type": "code",
      "source": [
        "plt.scatter(ageCar, speedCar)\n",
        "plt.plot(ageCar, meuModelo)\n",
        "plt.show()"
      ],
      "metadata": {
        "colab": {
          "base_uri": "https://localhost:8080/",
          "height": 265
        },
        "id": "yEVQLGnyqF9R",
        "outputId": "291246b0-ec91-4216-bd96-e02e9db0ab1d"
      },
      "execution_count": 16,
      "outputs": [
        {
          "output_type": "display_data",
          "data": {
            "text/plain": [
              "<Figure size 432x288 with 1 Axes>"
            ],
            "image/png": "[encoded data removed]"
          },
          "metadata": {
            "needs_background": "light"
          }
        }
      ]
    },
    {
      "cell_type": "markdown",
      "source": [
        "Analise o rvalue, e, a partir disso, defina qual o tipo de correlação entre os dados (idade do carro x velocidade)"
      ],
      "metadata": {
        "id": "8pWTeDcMr7QQ"
      }
    },
    {
      "cell_type": "markdown",
      "source": [
        "#Prever valores futuros"
      ],
      "metadata": {
        "id": "lUXwbxxVr3xG"
      }
    },
    {
      "cell_type": "code",
      "source": [
        "#Como prever a velocidade de um carro de 10 anos?\n",
        "#chamaremos funcRegressao()\n",
        "speed = funcRegressao(10)\n",
        "round(speed, 2)"
      ],
      "metadata": {
        "colab": {
          "base_uri": "https://localhost:8080/"
        },
        "id": "v1vI52SzsHeb",
        "outputId": "8a55aadd-3d14-4087-e5a3-909848ec562e"
      },
      "execution_count": 12,
      "outputs": [
        {
          "output_type": "execute_result",
          "data": {
            "text/plain": [
              "85.59"
            ]
          },
          "metadata": {},
          "execution_count": 12
        }
      ]
    },
    {
      "cell_type": "code",
      "source": [
        "#Solicita a idade do carro, retorna sua velocidade.\n",
        "carro = float(input('Qual a idade do carro? '))\n",
        "speed = funcRegressao(carro)\n",
        "speed"
      ],
      "metadata": {
        "colab": {
          "base_uri": "https://localhost:8080/"
        },
        "id": "_LhsixN7sznz",
        "outputId": "4313eedb-f9e2-46fd-9f9c-cd4cc7c882a1"
      },
      "execution_count": 13,
      "outputs": [
        {
          "name": "stdout",
          "output_type": "stream",
          "text": [
            "Qual a idade do carro? 1\n"
          ]
        },
        {
          "output_type": "execute_result",
          "data": {
            "text/plain": [
              "101.35467255334805"
            ]
          },
          "metadata": {},
          "execution_count": 13
        }
      ]
    }
  ]
}