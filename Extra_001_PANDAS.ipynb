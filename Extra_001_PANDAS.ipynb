{
  "nbformat": 4,
  "nbformat_minor": 0,
  "metadata": {
    "colab": {
      "provenance": [],
      "mount_file_id": "1RMJ9j6BMMB9HNcdp86nN3Lq1cZqAX0Mw",
      "authorship_tag": "ABX9TyNxUiLh0l+JCMf18fqijdga",
      "include_colab_link": true
    },
    "kernelspec": {
      "name": "python3",
      "display_name": "Python 3"
    },
    "language_info": {
      "name": "python"
    }
  },
  "cells": [
    {
      "cell_type": "markdown",
      "metadata": {
        "id": "view-in-github",
        "colab_type": "text"
      },
      "source": [
        "<a href=\"https://colab.research.google.com/github/ramonparaiba/machine-learning-classes/blob/main/Extra_001_PANDAS.ipynb\" target=\"_parent\"><img src=\"https://colab.research.google.com/assets/colab-badge.svg\" alt=\"Open In Colab\"/></a>"
      ]
    },
    {
      "cell_type": "code",
      "execution_count": 13,
      "metadata": {
        "colab": {
          "base_uri": "https://localhost:8080/"
        },
        "id": "Zj4qr5-SZuop",
        "outputId": "36b3f6eb-a568-4973-eacd-13892fa0d8e5"
      },
      "outputs": [
        {
          "output_type": "execute_result",
          "data": {
            "text/plain": [
              "10"
            ]
          },
          "metadata": {},
          "execution_count": 13
        }
      ],
      "source": [
        "nums = [22, 12, 13, 12, 5, 3, 22, 11, 12, 19]\n",
        "nos = set(nums)\n",
        "nos\n",
        "nums.count(12)\n",
        "len(nums)"
      ]
    },
    {
      "cell_type": "code",
      "source": [
        "def numeroUnicos(lista):\n",
        "  freq = ()\n",
        "  result = []\n",
        "  setList = list(set(lista))\n",
        "  for i in setList:\n",
        "    freq = (i, lista.count(i))\n",
        "    result.append(freq)\n",
        "  \n",
        "  return result"
      ],
      "metadata": {
        "id": "F97GSqSObA77"
      },
      "execution_count": 19,
      "outputs": []
    },
    {
      "cell_type": "code",
      "source": [
        "data = numeroUnicos(nums)"
      ],
      "metadata": {
        "id": "C1yAY0bXfhsI"
      },
      "execution_count": 22,
      "outputs": []
    },
    {
      "cell_type": "code",
      "source": [
        "import pandas as pd"
      ],
      "metadata": {
        "id": "AygpYqPwhWI5"
      },
      "execution_count": 23,
      "outputs": []
    },
    {
      "cell_type": "markdown",
      "source": [
        "Criação de dataframes com pandas"
      ],
      "metadata": {
        "id": "YJSHys2EmJJy"
      }
    },
    {
      "cell_type": "code",
      "source": [
        "df = pd.DataFrame(data, columns = ['numeros', 'frequência'])\n",
        "df"
      ],
      "metadata": {
        "id": "GIfm6i_PhzoA"
      },
      "execution_count": null,
      "outputs": []
    },
    {
      "cell_type": "code",
      "source": [
        "#importar dataframe\n",
        "titanic = pd.read_csv('/content/drive/MyDrive/datasets-colab/titanic.csv')"
      ],
      "metadata": {
        "id": "b8lGkglBlqH5"
      },
      "execution_count": 29,
      "outputs": []
    },
    {
      "cell_type": "code",
      "source": [
        "titanic"
      ],
      "metadata": {
        "id": "O1OZd3eHnEOM"
      },
      "execution_count": null,
      "outputs": []
    },
    {
      "cell_type": "code",
      "source": [
        "#Ver as primeiras x linhas de um dataframe\n",
        "titanic.head(3)"
      ],
      "metadata": {
        "id": "CjavcDQWnNcM"
      },
      "execution_count": null,
      "outputs": []
    },
    {
      "cell_type": "code",
      "source": [
        "#ver as ultimas x linhas de um dataframe\n",
        "titanic.tail(3)"
      ],
      "metadata": {
        "id": "sKpFODTMnqOJ"
      },
      "execution_count": null,
      "outputs": []
    },
    {
      "cell_type": "code",
      "source": [
        "#ver os tipos de variáveis de cada séries\n",
        "titanic.dtypes"
      ],
      "metadata": {
        "id": "JI-YGIWDnvfF"
      },
      "execution_count": null,
      "outputs": []
    },
    {
      "cell_type": "code",
      "source": [
        "from google.colab import drive\n",
        "\n",
        "drive.mount('drive')"
      ],
      "metadata": {
        "colab": {
          "base_uri": "https://localhost:8080/"
        },
        "id": "J2B-X2SzpxCs",
        "outputId": "6d4a1746-97da-4ad5-8e84-3e9de460f886"
      },
      "execution_count": 45,
      "outputs": [
        {
          "output_type": "stream",
          "name": "stdout",
          "text": [
            "Mounted at drive\n"
          ]
        }
      ]
    },
    {
      "cell_type": "code",
      "source": [
        "#Salvar um dataframe para um arquivo\n",
        "titanic.to_csv('titanic2.csv')\n",
        "!cp titanic2.csv \"/content/drive/MyDrive/datasets-colab\""
      ],
      "metadata": {
        "id": "7bi--EltoIf2"
      },
      "execution_count": 48,
      "outputs": []
    }
  ]
}